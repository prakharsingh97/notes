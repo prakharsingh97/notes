{
  "nbformat": 4,
  "nbformat_minor": 0,
  "metadata": {
    "colab": {
      "name": "study_notes.ipynb",
      "provenance": [],
      "collapsed_sections": [
        "bGs0yy9bDW7f"
      ],
      "authorship_tag": "ABX9TyOrbIi0X/qRexBhfM+gmPAS",
      "include_colab_link": true
    },
    "kernelspec": {
      "name": "python3",
      "display_name": "Python 3"
    },
    "language_info": {
      "name": "python"
    }
  },
  "cells": [
    {
      "cell_type": "markdown",
      "metadata": {
        "id": "view-in-github",
        "colab_type": "text"
      },
      "source": [
        "<a href=\"https://colab.research.google.com/github/prakharsingh97/notes/blob/main/study_notes.ipynb\" target=\"_parent\"><img src=\"https://colab.research.google.com/assets/colab-badge.svg\" alt=\"Open In Colab\"/></a>"
      ]
    },
    {
      "cell_type": "code",
      "metadata": {
        "id": "U_7p3G2SDQ0b"
      },
      "source": [
        ""
      ],
      "execution_count": null,
      "outputs": []
    },
    {
      "cell_type": "markdown",
      "metadata": {
        "id": "bGs0yy9bDW7f"
      },
      "source": [
        "#PCA\n",
        "\n",
        "\n"
      ]
    },
    {
      "cell_type": "markdown",
      "metadata": {
        "id": "1E-t6fCH34ty"
      },
      "source": [
        "Each dimension increase leads to a more complexity in representation of data \n",
        "PCA does \n",
        "1. Plot the data \n",
        "2. Calculates the average \n",
        "3. With average one can focus on center of the data\n",
        "4. For eg for 2 values the avg becomes the x and the y corrdinate and then we plot the point (x,y). This point is the new center.\n",
        "5. Now we shift so this center is the new origin. Realtive distance remains the same\n",
        "6. Now we find a line that fits it best and rotate it from center \n",
        "7. It tries for larger distance from points or smaller distance from center of orign for the PCA line \n",
        "8. Now we draw a line that fits the data best as it can . This line must pass through the orign\n",
        "            For 2 variables\n",
        "9. PCA finds the best fit line using the sum of distances after projecting the points on the line and min the sum of those d or max if it is from center/orign as a^2 =  b^2 + c^2  b and c are inversly proportional \n",
        "10. This line is called PC1 or principal componenet 1 \n",
        "11. PC1 will have a slope of n = b/c units and that is the ratio so it takes b parts of B and c parts of C . This is called the linear combination.PC1 is linear combination of data.\n",
        "12. Now if tan0 = b/c then by using pythogorus theorum we can find a^2 = b^2 + c^2 .Now divide by a so hypo = 1 . b/a = x and c/a = y .            (1 ,c/a , b/a)\n",
        "13. Now this unit vector that comprises of x units of quantity A and y parts of quantity B . This is called the Eignvector for PC1.\n",
        "14. And proportion of each are called Loading scores \n",
        "15. And PCA calls the sum of distances of PC1 as Eignvalues of PC1\n",
        "16. And sq_root(pc1) is called the Singular Value \n",
        "17. PC2 perpendicular to PC1 \n",
        "18. Now to find rotate PC1 and PC2 so that they are new axis .\n",
        "19. Now use projections of points on PC1 and PC2 as x and y to find PCA \n",
        "20. Variation = EignValue / samplesize -1 \n",
        "21. Now sum Var(A) + Var(B) and divide var(A)/sum to find the contribution\n",
        "21. Scree Plot : Is graphical representation of variation that each PC accounts for \n",
        "22. Now if we have 4 dimensions we can reduce it by considering only 2 of these variations the most imp for Dimension Reduction.\n",
        "\n"
      ]
    },
    {
      "cell_type": "code",
      "metadata": {
        "colab": {
          "base_uri": "https://localhost:8080/",
          "height": 887
        },
        "id": "1cOGTApIqiIM",
        "outputId": "03b364f7-3a28-445a-a1c8-6b6ec47dff6a"
      },
      "source": [
        "import pandas as pd\n",
        "import numpy as np\n",
        "import random as rd\n",
        "from sklearn.decomposition import PCA\n",
        "from sklearn import preprocessing\n",
        "import matplotlib.pyplot as plt \n",
        "\n",
        "gene = ['gene' + str(i) for i  in range(1,101) ]\n",
        "wt = ['wt' + str(i) for i in range(1,6)]\n",
        "ko = ['ko' +str(i) for i in range(1,6)]\n",
        "\n",
        "data = pd.DataFrame(columns = [*wt , *ko] , index = gene)\n",
        "\n",
        "for gene in data.index :\n",
        "    data.loc[gene , 'wt1':'wt5'] = np.random.poisson(lam = rd.randrange(10 , 1000) , size =5 )\n",
        "    data.loc[gene , 'ko1':'ko5'] = np.random.poisson(lam = rd.randrange(10 , 1000) , size =5 )\n",
        "\n",
        "print(data.head())\n",
        "print(data.shape )\n",
        "\n",
        "scaled_data = preprocessing.scale(data.T) #Center avg =0 scale s.d =0  #imp tp Transpose\n",
        "pca = PCA() #sklearn uses an object module \n",
        "pca.fit(scaled_data) #PCA math\n",
        "pca_data = pca.transform(scaled_data) #create the graph\n",
        "#print(pca_data)\n",
        "\n",
        "per_var = np.round(pca.explained_variance_ratio_*100 ,decimals = 1 )\n",
        "labels = ['PC' + str(i) for i in range(1 , len(per_var) +1 )]\n",
        "\n",
        "plt.bar(x = range(1, len(per_var) +1), height = per_var , tick_label = labels )\n",
        "plt.xlabel(\"Principal Component\")\n",
        "plt.ylabel(\"Percentage of Varaition\")\n",
        "plt.title(\"Scree Plot\")\n",
        "plt.show()\n",
        "\n",
        "pca_df = pd.DataFrame(pca_data , index = [*wt , *ko] , columns= labels) #they become the axis \n",
        "plt.scatter(pca_df.PC1 , pca_df.PC2)\n",
        "plt.xlabel('PC1 - {0}%'.format(per_var[0]))\n",
        "plt.ylabel('PC2 - {0}%'.format(per_var[1]))\n",
        "for sample in pca_df.index:\n",
        "    plt.annotate(sample , (pca_df.PC1.loc[sample] ,pca_df.PC2.loc[sample]))\n",
        "plt.show()\n",
        "\n",
        "loading_scores =pd.Series(pca.components_[0] , index = data.index)\n",
        "sorted_loading_scores = loading_scores.abs().sort_values(ascending = False)\n",
        "print(sorted_loading_scores)"
      ],
      "execution_count": null,
      "outputs": [
        {
          "output_type": "stream",
          "text": [
            "       wt1  wt2  wt3  wt4  wt5  ko1  ko2  ko3   ko4  ko5\n",
            "gene1   37   46   35   39   37  728  707  759   752  741\n",
            "gene2   57   61   57   72   49  969  996  991  1002  977\n",
            "gene3  635  654  640  628  679  988  966  939   983  996\n",
            "gene4  109  112  111  107  111  331  368  389   357  371\n",
            "gene5  655  636  662  684  649   27   24   23    24   13\n",
            "(100, 10)\n"
          ],
          "name": "stdout"
        },
        {
          "output_type": "display_data",
          "data": {
            "image/png": "[encoded data removed]",
            "text/plain": [
              "<Figure size 432x288 with 1 Axes>"
            ]
          },
          "metadata": {
            "tags": [],
            "needs_background": "light"
          }
        },
        {
          "output_type": "display_data",
          "data": {
            "image/png": "[encoded data removed]",
            "text/plain": [
              "<Figure size 432x288 with 1 Axes>"
            ]
          },
          "metadata": {
            "tags": [],
            "needs_background": "light"
          }
        },
        {
          "output_type": "stream",
          "text": [
            "gene33    0.104041\n",
            "gene2     0.104023\n",
            "gene5     0.104003\n",
            "gene21    0.103987\n",
            "gene68    0.103979\n",
            "            ...   \n",
            "gene53    0.079326\n",
            "gene89    0.079110\n",
            "gene6     0.062826\n",
            "gene56    0.059610\n",
            "gene13    0.039642\n",
            "Length: 100, dtype: float64\n"
          ],
          "name": "stdout"
        }
      ]
    },
    {
      "cell_type": "markdown",
      "metadata": {
        "id": "efSsHFCEV6wu"
      },
      "source": [
        "#LDA"
      ]
    },
    {
      "cell_type": "markdown",
      "metadata": {
        "id": "X7NwiJ4iV_J4"
      },
      "source": [
        "1. LDA is like PCA but it focuses on increaing the seperability of categories whereas PCA focuses on variations \n",
        "2. Reduction in a 2D graph to 1D . Worse way (ignore a dimension) where LDA will just plot a 1D graph.\n",
        "3. Criteria for LDA\n",
        "    1. Maximize the distance between the means of the projected data \n",
        "    2. Minimize the variation called scatter\n",
        "    3. Formula \n",
        "\n",
        "4. Well seperation done than PCA\n",
        "\n",
        "    \n",
        "\n",
        "\n",
        "\n"
      ]
    },
    {
      "cell_type": "markdown",
      "metadata": {
        "id": "0sFu6_IAcOc-"
      },
      "source": [
        "#Decision trees"
      ]
    },
    {
      "cell_type": "markdown",
      "metadata": {
        "id": "-hUmtTWbcRxs"
      },
      "source": [
        "Decision tress asks a question and answers it with a Yes or No\n",
        "1. Classification can be categorical(yes or\n",
        " no) or numeric (as in >1000 or so)\n",
        "2. right does not be equal to left\n",
        "3. Top of tree root node\n",
        "4. Leaf nodes arrow pointing to them \n",
        "5. If all of the options/questions/decision markers do not end up in a 100 per yes or no ans it is called an impure node\n",
        "6. Impurity measurement is called Gini\n",
        "8. Gini Probability = 1 - p(yes)^2 - p(no)^2\n",
        "9. Now take weighted mean ((item in  one leaf node)/ total items)*Gini Impurity of that note . Sum for both nodes.\n",
        "10. Choose the lowest \n",
        "11. Rinse and repeat untill it is done\n",
        "12. For color choice all options for eg R,G,Y (R,G,Y,RG,GY,YR,RGY)\n",
        "13. Ranking for eg(1,2,3,4) . Use rank < = 1  , 2, 3, and no 4 as it would include everyone \n",
        "\n",
        "##Missing data and Feature selection\n",
        "1. Feature selection based on impurity reduction\n",
        "2. We can set a threshold for how much impurity we want to reduce\n",
        "3. How to check impurity reduction ? Gini index duh ....\n",
        "4. Prevents Overfitting\n",
        "5. Decision tress are often overfit \n",
        "6. For missing data : use highest correlation or use a most common value in that column\n",
        "7. For numerical data : regression\n",
        "\n"
      ]
    },
    {
      "cell_type": "code",
      "metadata": {
        "colab": {
          "base_uri": "https://localhost:8080/",
          "height": 202
        },
        "id": "MNVFOJUQxdvK",
        "outputId": "8e547dbe-ad29-4280-9d11-8457381ef834"
      },
      "source": [
        "import pandas as pd \n",
        "import numpy as np\n",
        "import matplotlib.pyplot as plt \n",
        "from sklearn.tree import DecisionTreeClassifier #build a classification tree\n",
        "from sklearn.tree import plot_tree #plotting a classification tree\n",
        "from sklearn.model_selection import train_test_split\n",
        "from sklearn.model_selection import cross_val_score\n",
        "from sklearn.metrics import confusion_matrix\n",
        "from sklearn.metrics import plot_confusion_matrix\n",
        "\n",
        "df = pd.read_csv(\"https://archive.ics.uci.edu/ml/machine-learning-databases/heart-disease/processed.cleveland.data\" , header = None)\n",
        "df.head()\n",
        "##change column names \n"
      ],
      "execution_count": 4,
      "outputs": [
        {
          "output_type": "execute_result",
          "data": {
            "text/html": [
              "<div>\n",
              "<style scoped>\n",
              "    .dataframe tbody tr th:only-of-type {\n",
              "        vertical-align: middle;\n",
              "    }\n",
              "\n",
              "    .dataframe tbody tr th {\n",
              "        vertical-align: top;\n",
              "    }\n",
              "\n",
              "    .dataframe thead th {\n",
              "        text-align: right;\n",
              "    }\n",
              "</style>\n",
              "<table border=\"1\" class=\"dataframe\">\n",
              "  <thead>\n",
              "    <tr style=\"text-align: right;\">\n",
              "      <th></th>\n",
              "      <th>0</th>\n",
              "      <th>1</th>\n",
              "      <th>2</th>\n",
              "      <th>3</th>\n",
              "      <th>4</th>\n",
              "      <th>5</th>\n",
              "      <th>6</th>\n",
              "      <th>7</th>\n",
              "      <th>8</th>\n",
              "      <th>9</th>\n",
              "      <th>10</th>\n",
              "      <th>11</th>\n",
              "      <th>12</th>\n",
              "      <th>13</th>\n",
              "    </tr>\n",
              "  </thead>\n",
              "  <tbody>\n",
              "    <tr>\n",
              "      <th>0</th>\n",
              "      <td>63.0</td>\n",
              "      <td>1.0</td>\n",
              "      <td>1.0</td>\n",
              "      <td>145.0</td>\n",
              "      <td>233.0</td>\n",
              "      <td>1.0</td>\n",
              "      <td>2.0</td>\n",
              "      <td>150.0</td>\n",
              "      <td>0.0</td>\n",
              "      <td>2.3</td>\n",
              "      <td>3.0</td>\n",
              "      <td>0.0</td>\n",
              "      <td>6.0</td>\n",
              "      <td>0</td>\n",
              "    </tr>\n",
              "    <tr>\n",
              "      <th>1</th>\n",
              "      <td>67.0</td>\n",
              "      <td>1.0</td>\n",
              "      <td>4.0</td>\n",
              "      <td>160.0</td>\n",
              "      <td>286.0</td>\n",
              "      <td>0.0</td>\n",
              "      <td>2.0</td>\n",
              "      <td>108.0</td>\n",
              "      <td>1.0</td>\n",
              "      <td>1.5</td>\n",
              "      <td>2.0</td>\n",
              "      <td>3.0</td>\n",
              "      <td>3.0</td>\n",
              "      <td>2</td>\n",
              "    </tr>\n",
              "    <tr>\n",
              "      <th>2</th>\n",
              "      <td>67.0</td>\n",
              "      <td>1.0</td>\n",
              "      <td>4.0</td>\n",
              "      <td>120.0</td>\n",
              "      <td>229.0</td>\n",
              "      <td>0.0</td>\n",
              "      <td>2.0</td>\n",
              "      <td>129.0</td>\n",
              "      <td>1.0</td>\n",
              "      <td>2.6</td>\n",
              "      <td>2.0</td>\n",
              "      <td>2.0</td>\n",
              "      <td>7.0</td>\n",
              "      <td>1</td>\n",
              "    </tr>\n",
              "    <tr>\n",
              "      <th>3</th>\n",
              "      <td>37.0</td>\n",
              "      <td>1.0</td>\n",
              "      <td>3.0</td>\n",
              "      <td>130.0</td>\n",
              "      <td>250.0</td>\n",
              "      <td>0.0</td>\n",
              "      <td>0.0</td>\n",
              "      <td>187.0</td>\n",
              "      <td>0.0</td>\n",
              "      <td>3.5</td>\n",
              "      <td>3.0</td>\n",
              "      <td>0.0</td>\n",
              "      <td>3.0</td>\n",
              "      <td>0</td>\n",
              "    </tr>\n",
              "    <tr>\n",
              "      <th>4</th>\n",
              "      <td>41.0</td>\n",
              "      <td>0.0</td>\n",
              "      <td>2.0</td>\n",
              "      <td>130.0</td>\n",
              "      <td>204.0</td>\n",
              "      <td>0.0</td>\n",
              "      <td>2.0</td>\n",
              "      <td>172.0</td>\n",
              "      <td>0.0</td>\n",
              "      <td>1.4</td>\n",
              "      <td>1.0</td>\n",
              "      <td>0.0</td>\n",
              "      <td>3.0</td>\n",
              "      <td>0</td>\n",
              "    </tr>\n",
              "  </tbody>\n",
              "</table>\n",
              "</div>"
            ],
            "text/plain": [
              "     0    1    2      3      4    5    6      7    8    9    10   11   12  13\n",
              "0  63.0  1.0  1.0  145.0  233.0  1.0  2.0  150.0  0.0  2.3  3.0  0.0  6.0   0\n",
              "1  67.0  1.0  4.0  160.0  286.0  0.0  2.0  108.0  1.0  1.5  2.0  3.0  3.0   2\n",
              "2  67.0  1.0  4.0  120.0  229.0  0.0  2.0  129.0  1.0  2.6  2.0  2.0  7.0   1\n",
              "3  37.0  1.0  3.0  130.0  250.0  0.0  0.0  187.0  0.0  3.5  3.0  0.0  3.0   0\n",
              "4  41.0  0.0  2.0  130.0  204.0  0.0  2.0  172.0  0.0  1.4  1.0  0.0  3.0   0"
            ]
          },
          "metadata": {
            "tags": []
          },
          "execution_count": 4
        }
      ]
    }
  ]
}